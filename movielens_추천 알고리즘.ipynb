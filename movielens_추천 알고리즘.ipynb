{
 "cells": [
  {
   "cell_type": "markdown",
   "metadata": {},
   "source": [
    "#### 분석 데이터 배경\n",
    "- 데이터셋은 영화 27278개의 20000263 레이팅과 465564의 태깅으로 구성\n",
    "- 1995년부터 2015년까지 138493의 유저들이 입력한 데이터로 구성\n",
    "- 각 유저들은 최소 20개의 영화에 대한 레이팅을 진행했음\n",
    "\n",
    "#### 분석 데이터 설명\n",
    "- \n",
    "Content\n",
    "No demographic information is included. Each user is represented by an id, and no other information is provided.\n",
    "\n",
    "The data are contained in six files.\n",
    "\n",
    "tag.csv that contains tags applied to movies by users:\n",
    "\n",
    "userId\n",
    "\n",
    "movieId\n",
    "\n",
    "tag\n",
    "\n",
    "timestamp\n",
    "\n",
    "rating.csv that contains ratings of movies by users:\n",
    "\n",
    "userId\n",
    "\n",
    "movieId\n",
    "\n",
    "rating\n",
    "\n",
    "timestamp\n",
    "\n",
    "movie.csv that contains movie information:\n",
    "\n",
    "movieId\n",
    "\n",
    "title\n",
    "\n",
    "genres\n",
    "\n",
    "link.csv that contains identifiers that can be used to link to other sources:\n",
    "\n",
    "movieId\n",
    "\n",
    "imdbId\n",
    "\n",
    "tmbdId\n",
    "\n",
    "genome_scores.csv that contains movie-tag relevance data:\n",
    "\n",
    "movieId\n",
    "\n",
    "tagId\n",
    "\n",
    "relevance\n",
    "\n",
    "genome_tags.csv that contains tag descriptions:\n",
    "\n",
    "tagId\n",
    "\n",
    "tag\n",
    "\n",
    "Acknowledgements\n",
    "The original datasets can be found here. To acknowledge use of the dataset in publications, please cite the following paper:\n",
    "\n",
    "F. Maxwell Harper and Joseph A. Konstan. 2015. The MovieLens Datasets: History and Context. ACM Transactions on Interactive Intelligent Systems (TiiS) 5, 4, Article 19 (December 2015), 19 pages. DOI=http://dx.doi.org/10.1145/2827872\n",
    "\n",
    "Inspiration\n",
    "Some ideas worth exploring:\n",
    "\n",
    "Which genres receive the highest ratings? How does this change over time?\n",
    "\n",
    "Determine the temporal trends in the genres/tagging activity of the movies released"
   ]
  },
  {
   "cell_type": "markdown",
   "metadata": {},
   "source": [
    "### 1. 패키지, 데이터 셋 호출"
   ]
  },
  {
   "cell_type": "code",
   "execution_count": null,
   "metadata": {},
   "outputs": [],
   "source": [
    "import pandas as pd\n",
    "import numpy as np"
   ]
  }
 ],
 "metadata": {
  "kernelspec": {
   "display_name": "Python 3",
   "language": "python",
   "name": "python3"
  },
  "language_info": {
   "codemirror_mode": {
    "name": "ipython",
    "version": 3
   },
   "file_extension": ".py",
   "mimetype": "text/x-python",
   "name": "python",
   "nbconvert_exporter": "python",
   "pygments_lexer": "ipython3",
   "version": "3.7.3"
  }
 },
 "nbformat": 4,
 "nbformat_minor": 4
}
